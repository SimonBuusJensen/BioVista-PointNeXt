{
 "cells": [
  {
   "cell_type": "code",
   "execution_count": 2,
   "metadata": {},
   "outputs": [
    {
     "name": "stdout",
     "output_type": "stream",
     "text": [
      "                                           file_name  \\\n",
      "0  high_biodiversity_forest_2019_ogc_fid_1_1_30m.npz   \n",
      "1  high_biodiversity_forest_2019_ogc_fid_1_2_30m.npz   \n",
      "2  high_biodiversity_forest_2019_ogc_fid_1_3_30m.npz   \n",
      "3  high_biodiversity_forest_2019_ogc_fid_1_4_30m.npz   \n",
      "4  high_biodiversity_forest_2019_ogc_fid_1_5_30m.npz   \n",
      "\n",
      "                 class_name  year  ogc_fid  sample_id dataset_split  \\\n",
      "0  high_biodiversity_forest  2019        1          1         train   \n",
      "1  high_biodiversity_forest  2019        1          2         train   \n",
      "2  high_biodiversity_forest  2019        1          3         train   \n",
      "3  high_biodiversity_forest  2019        1          4         train   \n",
      "4  high_biodiversity_forest  2019        1          5         train   \n",
      "\n",
      "   num_points     x_min     x_max     x_mean  ...  r_std  g_min  g_max  \\\n",
      "0       22274  719934.7  719964.7  719949.80  ...    0.0    0.0    0.0   \n",
      "1       21730  719966.7  719996.7  719981.75  ...    0.0    0.0    0.0   \n",
      "2       38756  719887.7  719917.7  719902.75  ...    0.0    0.0    0.0   \n",
      "3       31361  719919.7  719949.7  719934.20  ...    0.0    0.0    0.0   \n",
      "4       45508  719838.7  719868.7  719854.10  ...    0.0    0.0    0.0   \n",
      "\n",
      "   g_mean  g_std  b_min  b_max  b_mean  b_std  unique_class_ids  \n",
      "0     0.0    0.0    0.0    0.0     0.0    0.0    2,3,4,5,7,8,18  \n",
      "1     0.0    0.0    0.0    0.0     0.0    0.0      2,3,4,5,8,18  \n",
      "2     0.0    0.0    0.0    0.0     0.0    0.0      2,3,4,5,8,18  \n",
      "3     0.0    0.0    0.0    0.0     0.0    0.0    2,3,4,5,7,8,18  \n",
      "4     0.0    0.0    0.0    0.0     0.0    0.0      2,3,4,5,8,18  \n",
      "\n",
      "[5 rows x 36 columns]\n"
     ]
    }
   ],
   "source": [
    "import pandas as pd\n",
    "csv_file = \"/home/simon/data/BioVista/Forest-Biodiversity-Potential/figures/point_cloud_statistics/point_cloud_statistics.csv\"\n",
    "df = pd.read_csv(csv_file)\n",
    "print(df.head())"
   ]
  },
  {
   "cell_type": "markdown",
   "metadata": {},
   "source": [
    "# Question 1: Are there negative values in the X and Y-coordinates like the Z-coordinates?"
   ]
  },
  {
   "cell_type": "code",
   "execution_count": 4,
   "metadata": {},
   "outputs": [
    {
     "name": "stdout",
     "output_type": "stream",
     "text": [
      "447674.22 6060248.5 -2290.93\n"
     ]
    }
   ],
   "source": [
    "min_x = df['x_min'].min()\n",
    "min_y = df['y_min'].min()\n",
    "min_z = df['z_min'].min()\n",
    "print(min_x, min_y, min_z)\n"
   ]
  },
  {
   "cell_type": "code",
   "execution_count": 7,
   "metadata": {},
   "outputs": [
    {
     "name": "stdout",
     "output_type": "stream",
     "text": [
      "                                               file_name    z_min      z_mean  \\\n",
      "27818  high_biodiversity_forest_2019_ogc_fid_45_121_3... -2290.93   26.861534   \n",
      "6337   high_biodiversity_forest_2019_ogc_fid_46_18_30... -2266.74   35.196960   \n",
      "37018  high_biodiversity_forest_2019_ogc_fid_65_44_30... -1824.11   61.812450   \n",
      "6358   high_biodiversity_forest_2019_ogc_fid_46_39_30... -1750.93   38.696680   \n",
      "6362   high_biodiversity_forest_2019_ogc_fid_46_43_30... -1743.35   43.110405   \n",
      "36728  high_biodiversity_forest_2019_ogc_fid_63_113_3... -1710.50   49.079773   \n",
      "27991  high_biodiversity_forest_2019_ogc_fid_45_294_3... -1602.15   13.570689   \n",
      "6340   high_biodiversity_forest_2019_ogc_fid_46_21_30... -1158.18   39.702580   \n",
      "6329   high_biodiversity_forest_2019_ogc_fid_46_10_30...  -889.88   43.704800   \n",
      "27996  high_biodiversity_forest_2019_ogc_fid_45_299_3...  -888.36   17.951977   \n",
      "6387   high_biodiversity_forest_2019_ogc_fid_46_68_30...  -851.64   52.092010   \n",
      "36628  high_biodiversity_forest_2019_ogc_fid_63_13_30...  -378.51   56.791077   \n",
      "37210  high_biodiversity_forest_2019_ogc_fid_66_35_30...  -308.38   57.945568   \n",
      "36811  high_biodiversity_forest_2019_ogc_fid_63_196_3...  -232.78   54.707256   \n",
      "6693   high_biodiversity_forest_2019_ogc_fid_49_121_3...  -156.55  121.278046   \n",
      "4196   high_biodiversity_forest_2019_ogc_fid_33_155_3...  -149.28    6.973910   \n",
      "27666  high_biodiversity_forest_2019_ogc_fid_30_502_3...  -138.67    9.908566   \n",
      "26947  high_biodiversity_forest_2019_ogc_fid_5_23_30m...  -118.42   44.478200   \n",
      "26956  high_biodiversity_forest_2019_ogc_fid_5_32_30m...  -118.21   45.330540   \n",
      "26968  high_biodiversity_forest_2019_ogc_fid_5_44_30m...  -118.21   40.944690   \n",
      "\n",
      "        z_max  \n",
      "27818   45.26  \n",
      "6337    50.72  \n",
      "37018   81.34  \n",
      "6358    56.96  \n",
      "6362    60.83  \n",
      "36728   63.66  \n",
      "27991   37.38  \n",
      "6340    56.69  \n",
      "6329    59.67  \n",
      "27996   37.24  \n",
      "6387    68.11  \n",
      "36628   73.23  \n",
      "37210   73.91  \n",
      "36811   70.48  \n",
      "6693   136.87  \n",
      "4196    29.08  \n",
      "27666   20.40  \n",
      "26947   65.34  \n",
      "26956   66.82  \n",
      "26968   58.19  \n"
     ]
    }
   ],
   "source": [
    "# Find the top 100 minimum values of the z_min column\n",
    "top_100_min_z = df.nsmallest(20, 'z_min')\n",
    "\n",
    "# Print the corresponding file_name column, z_min, z_mean and z_max columns of the top 100 minimum values\n",
    "print(top_100_min_z[['file_name', 'z_min', 'z_mean', 'z_max']])"
   ]
  },
  {
   "cell_type": "markdown",
   "metadata": {},
   "source": [
    "# Answer: No there are only negative values among the z-coordinates"
   ]
  },
  {
   "cell_type": "markdown",
   "metadata": {},
   "source": [
    "# Question 2: Are there any Outliers among the intensity values?"
   ]
  },
  {
   "cell_type": "code",
   "execution_count": 8,
   "metadata": {},
   "outputs": [
    {
     "name": "stdout",
     "output_type": "stream",
     "text": [
      "Max:  65535.0\n",
      "Min:  0.0\n",
      "Mean:  7453.40560878852\n"
     ]
    }
   ],
   "source": [
    "# Get the max intensity_max the min intensity_min and the mean intensity_mean\n",
    "max_intensity_max = df['intensity_max'].max()\n",
    "min_intensity_min = df['intensity_min'].min()\n",
    "mean_intensity_mean = df['intensity_mean'].mean()\n",
    "\n",
    "print(\"Max: \", max_intensity_max)\n",
    "print(\"Min: \", min_intensity_min)\n",
    "print(\"Mean: \", mean_intensity_mean)"
   ]
  },
  {
   "cell_type": "code",
   "execution_count": 9,
   "metadata": {},
   "outputs": [
    {
     "name": "stdout",
     "output_type": "stream",
     "text": [
      "Max:  65535.0\n",
      "Min:  224.0\n",
      "Mean:  13237.076163864978\n"
     ]
    }
   ],
   "source": [
    "# Get the max intensity_max the min intensity_max and the mean intensity_max\n",
    "max_intensity_max = df['intensity_max'].max()\n",
    "min_intensity_max = df['intensity_max'].min()\n",
    "mean_intensity_max = df['intensity_max'].mean()\n",
    "\n",
    "print(\"Max: \", max_intensity_max)\n",
    "print(\"Min: \", min_intensity_max)\n",
    "print(\"Mean: \", mean_intensity_max)"
   ]
  },
  {
   "cell_type": "code",
   "execution_count": 19,
   "metadata": {},
   "outputs": [
    {
     "name": "stdout",
     "output_type": "stream",
     "text": [
      "Min:  year\n",
      "2019     91.0\n",
      "2020    751.8\n",
      "2021    673.5\n",
      "2022    849.7\n",
      "2023    591.5\n",
      "Name: intensity_mean, dtype: float64\n",
      "Max:  year\n",
      "2019    33840.0\n",
      "2020     1881.6\n",
      "2021    48638.4\n",
      "2022    46317.3\n",
      "2023    49378.5\n",
      "Name: intensity_mean, dtype: float64\n",
      "Mean:  year\n",
      "2019      483.5\n",
      "2020     1137.7\n",
      "2021     1586.4\n",
      "2022    17328.5\n",
      "2023    16374.1\n",
      "Name: intensity_mean, dtype: float64\n"
     ]
    }
   ],
   "source": [
    "# Group the df by years (2019, 2020, 2021, 2022, 2023) and the class column\n",
    "grouped = df.groupby(['year'])\n",
    "\n",
    "# Get the max, min and mean of the intensity_max column per year\n",
    "max_intensity_max_per_year = grouped['intensity_mean'].max()\n",
    "min_intensity_max_per_year = grouped['intensity_mean'].min()\n",
    "mean_intensity_max_per_year = grouped['intensity_mean'].mean()\n",
    "\n",
    "# Print the min max and mean with 1 decimal\n",
    "print(\"Min: \", min_intensity_max_per_year.round(1))\n",
    "print(\"Max: \", max_intensity_max_per_year.round(1))\n",
    "print(\"Mean: \", mean_intensity_max_per_year.round(1))\n"
   ]
  },
  {
   "cell_type": "code",
   "execution_count": 15,
   "metadata": {},
   "outputs": [],
   "source": [
    "# Normalize the intensity_mean column by the min and max values\n",
    "df['intensity_mean_normalized'] = (df['intensity_mean'] - df['intensity_mean']) / (df['intensity_mean'].max() - df['intensity_mean'].min())"
   ]
  },
  {
   "cell_type": "code",
   "execution_count": 16,
   "metadata": {},
   "outputs": [],
   "source": [
    "# Save to a df which contains file_name, year, class_name, intensity_min, intensity_max, intensity_mean, intensity_mean_normalized\n",
    "df_to_save = df[['file_name', 'year', 'class_name', 'intensity_min', 'intensity_max', 'intensity_mean', 'intensity_mean_normalized']]\n",
    "df_to_save.to_csv('/home/simon/data/BioVista/Forest-Biodiversity-Potential/figures/point_cloud_statistics/intensity_statistics.csv', index=False)"
   ]
  },
  {
   "cell_type": "code",
   "execution_count": null,
   "metadata": {},
   "outputs": [],
   "source": []
  }
 ],
 "metadata": {
  "kernelspec": {
   "display_name": "biovista",
   "language": "python",
   "name": "python3"
  },
  "language_info": {
   "codemirror_mode": {
    "name": "ipython",
    "version": 3
   },
   "file_extension": ".py",
   "mimetype": "text/x-python",
   "name": "python",
   "nbconvert_exporter": "python",
   "pygments_lexer": "ipython3",
   "version": "3.8.10"
  }
 },
 "nbformat": 4,
 "nbformat_minor": 2
}

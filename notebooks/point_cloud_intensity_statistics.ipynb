{
 "cells": [
  {
   "cell_type": "code",
   "execution_count": null,
   "metadata": {},
   "outputs": [],
   "source": []
  },
  {
   "cell_type": "code",
   "execution_count": 2,
   "metadata": {},
   "outputs": [],
   "source": [
    "import pandas as pd"
   ]
  },
  {
   "cell_type": "code",
   "execution_count": 15,
   "metadata": {},
   "outputs": [],
   "source": [
    "csv = \"/home/simon/data/BioVista/Forest-Biodiversity-Potential/figures/point_cloud_statistics/point_cloud_intensity_statistics.csv\"\n",
    "df = pd.read_csv(csv)"
   ]
  },
  {
   "cell_type": "code",
   "execution_count": 16,
   "metadata": {},
   "outputs": [
    {
     "name": "stdout",
     "output_type": "stream",
     "text": [
      "Mean and std dev. intensity:        intensity_mean  intensity_std\n",
      "year                               \n",
      "2019      483.499412     193.789598\n",
      "2020     1137.650936     493.277588\n",
      "2021     1586.448712     601.492053\n",
      "2022    17328.451551    5587.298082\n",
      "2023    16374.132065    6453.173478\n",
      "Mean and std dev. ground intensity:        intensity_mean_ground  intensity_std_ground\n",
      "year                                             \n",
      "2019             679.796009            126.969536\n",
      "2020            1458.681530            407.812049\n",
      "2021            2090.226902            465.898021\n",
      "2022           22285.072975           4024.342352\n",
      "2023           23686.034331           4100.904598\n",
      "Mean and std dev. low_vegetation intensity:        intensity_mean_low_vegetation  intensity_std_low_vegetation\n",
      "year                                                             \n",
      "2019                     602.993845                    146.347324\n",
      "2020                    1315.350121                    462.254961\n",
      "2021                    1892.209634                    540.856048\n",
      "2022                   20272.816251                   4702.659327\n",
      "2023                   21430.640094                   4970.131006\n",
      "Mean and std dev. medium_vegetation intensity:        intensity_mean_medium_vegetation  intensity_std_medium_vegetation\n",
      "year                                                                   \n",
      "2019                        409.002214                       150.412083\n",
      "2020                        876.013230                       424.628991\n",
      "2021                       1379.346351                       522.357662\n",
      "2022                      15693.849278                      4700.698802\n",
      "2023                      14769.659618                      5168.118854\n",
      "Mean and std dev. high_vegetation intensity:        intensity_mean_high_vegetation  intensity_std_high_vegetation\n",
      "year                                                               \n",
      "2019                      359.815853                     113.413294\n",
      "2020                      976.121244                     411.644361\n",
      "2021                     1300.980943                     471.743721\n",
      "2022                    14598.147728                    3883.897318\n",
      "2023                    12912.259176                    3876.948554\n"
     ]
    }
   ],
   "source": [
    "# Group the df by years (2019, 2020, 2021, 2022, 2023) and the class column\n",
    "grouped = df.groupby(['year'])\n",
    "print(\"Mean and std dev. intensity: \", grouped[['intensity_mean', 'intensity_std']].mean())\n",
    "print(\"Mean and std dev. ground intensity: \", grouped[['intensity_mean_ground', 'intensity_std_ground']].mean())\n",
    "print(\"Mean and std dev. low_vegetation intensity: \", grouped[['intensity_mean_low_vegetation', 'intensity_std_low_vegetation']].mean())\n",
    "print(\"Mean and std dev. medium_vegetation intensity: \", grouped[['intensity_mean_medium_vegetation', 'intensity_std_medium_vegetation']].mean())\n",
    "print(\"Mean and std dev. high_vegetation intensity: \", grouped[['intensity_mean_high_vegetation', 'intensity_std_high_vegetation']].mean())"
   ]
  },
  {
   "cell_type": "code",
   "execution_count": 17,
   "metadata": {},
   "outputs": [
    {
     "data": {
      "text/html": [
       "<div>\n",
       "<style scoped>\n",
       "    .dataframe tbody tr th:only-of-type {\n",
       "        vertical-align: middle;\n",
       "    }\n",
       "\n",
       "    .dataframe tbody tr th {\n",
       "        vertical-align: top;\n",
       "    }\n",
       "\n",
       "    .dataframe thead th {\n",
       "        text-align: right;\n",
       "    }\n",
       "</style>\n",
       "<table border=\"1\" class=\"dataframe\">\n",
       "  <thead>\n",
       "    <tr style=\"text-align: right;\">\n",
       "      <th></th>\n",
       "      <th>intensity_mean</th>\n",
       "      <th>intensity_mean_ground</th>\n",
       "      <th>intensity_mean_low_vegetation</th>\n",
       "      <th>intensity_mean_medium_vegetation</th>\n",
       "      <th>intensity_mean_high_vegetation</th>\n",
       "    </tr>\n",
       "    <tr>\n",
       "      <th>year</th>\n",
       "      <th></th>\n",
       "      <th></th>\n",
       "      <th></th>\n",
       "      <th></th>\n",
       "      <th></th>\n",
       "    </tr>\n",
       "  </thead>\n",
       "  <tbody>\n",
       "    <tr>\n",
       "      <th>2019</th>\n",
       "      <td>483.499412</td>\n",
       "      <td>679.796009</td>\n",
       "      <td>602.993845</td>\n",
       "      <td>409.002214</td>\n",
       "      <td>359.815853</td>\n",
       "    </tr>\n",
       "    <tr>\n",
       "      <th>2020</th>\n",
       "      <td>1137.650936</td>\n",
       "      <td>1458.681530</td>\n",
       "      <td>1315.350121</td>\n",
       "      <td>876.013230</td>\n",
       "      <td>976.121244</td>\n",
       "    </tr>\n",
       "    <tr>\n",
       "      <th>2021</th>\n",
       "      <td>1586.448712</td>\n",
       "      <td>2090.226902</td>\n",
       "      <td>1892.209634</td>\n",
       "      <td>1379.346351</td>\n",
       "      <td>1300.980943</td>\n",
       "    </tr>\n",
       "    <tr>\n",
       "      <th>2022</th>\n",
       "      <td>17328.451551</td>\n",
       "      <td>22285.072975</td>\n",
       "      <td>20272.816251</td>\n",
       "      <td>15693.849278</td>\n",
       "      <td>14598.147728</td>\n",
       "    </tr>\n",
       "    <tr>\n",
       "      <th>2023</th>\n",
       "      <td>16374.132065</td>\n",
       "      <td>23686.034331</td>\n",
       "      <td>21430.640094</td>\n",
       "      <td>14769.659618</td>\n",
       "      <td>12912.259176</td>\n",
       "    </tr>\n",
       "  </tbody>\n",
       "</table>\n",
       "</div>"
      ],
      "text/plain": [
       "      intensity_mean  intensity_mean_ground  intensity_mean_low_vegetation  \\\n",
       "year                                                                         \n",
       "2019      483.499412             679.796009                     602.993845   \n",
       "2020     1137.650936            1458.681530                    1315.350121   \n",
       "2021     1586.448712            2090.226902                    1892.209634   \n",
       "2022    17328.451551           22285.072975                   20272.816251   \n",
       "2023    16374.132065           23686.034331                   21430.640094   \n",
       "\n",
       "      intensity_mean_medium_vegetation  intensity_mean_high_vegetation  \n",
       "year                                                                    \n",
       "2019                        409.002214                      359.815853  \n",
       "2020                        876.013230                      976.121244  \n",
       "2021                       1379.346351                     1300.980943  \n",
       "2022                      15693.849278                    14598.147728  \n",
       "2023                      14769.659618                    12912.259176  "
      ]
     },
     "execution_count": 17,
     "metadata": {},
     "output_type": "execute_result"
    }
   ],
   "source": [
    "grouped[['intensity_mean', 'intensity_mean_ground', \"intensity_mean_low_vegetation\", \"intensity_mean_medium_vegetation\", \"intensity_mean_high_vegetation\"]].mean()"
   ]
  },
  {
   "cell_type": "code",
   "execution_count": null,
   "metadata": {},
   "outputs": [],
   "source": []
  }
 ],
 "metadata": {
  "kernelspec": {
   "display_name": "biovista",
   "language": "python",
   "name": "python3"
  },
  "language_info": {
   "codemirror_mode": {
    "name": "ipython",
    "version": 3
   },
   "file_extension": ".py",
   "mimetype": "text/x-python",
   "name": "python",
   "nbconvert_exporter": "python",
   "pygments_lexer": "ipython3",
   "version": "3.8.10"
  }
 },
 "nbformat": 4,
 "nbformat_minor": 2
}
